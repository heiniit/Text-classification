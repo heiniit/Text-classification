{
 "cells": [
  {
   "cell_type": "markdown",
   "metadata": {},
   "source": [
    "# Tekstien luokittelua"
   ]
  },
  {
   "cell_type": "markdown",
   "metadata": {},
   "source": [
    "Seuraavassa mennään siitä, missä aita on matalin ja luokitellaan muutamia yksinkertaisia tekstejä.\n",
    "\n",
    "Opetusdatana käytetään alan käytetyintä(?) esimerkkiaineistoa, jossa on koottuna postauksia 20 uutisryhmästä (nuoret, kysykää vanhemmiltanne) vuosikymmenten takaa. Datan saa suoraan sklearn.datasets.fetch_20newsgroups, haetaan sieltä viestit neljästä ryhmästä:"
   ]
  },
  {
   "cell_type": "code",
   "execution_count": 1,
   "metadata": {},
   "outputs": [],
   "source": [
    "# Training data\n",
    "from sklearn.datasets import fetch_20newsgroups\n",
    "categories = [\"alt.atheism\", \"soc.religion.christian\", \"comp.graphics\", \"sci.med\"]\n",
    "newsgroups_train = fetch_20newsgroups(subset='train',categories=categories)"
   ]
  },
  {
   "cell_type": "markdown",
   "metadata": {},
   "source": [
    "Seuraavaksi datalle tehdään \"vektorointi\" ja \"normalisointi\". \n",
    "\n",
    "Vektorointi tarkoittaa tässä yksinkertaisesti sanojen laskemista; tehdään siis vektori, joka edustaa \"sanakirjaa\", kukin vektorin alkio kertoo montako kertaa kyseinen sana esiintyy.\n",
    "\n",
    "Normalisointi taas tarkoittaa, että lukumäärät suhteutetaan sanojen kokonaismäärään. Tekstin pituus ei siis vaikuta lopputulokseen, vaan se, kuinka yleinen tietty sana on kyseisessä tekstissä."
   ]
  },
  {
   "cell_type": "code",
   "execution_count": 2,
   "metadata": {},
   "outputs": [],
   "source": [
    "# Vectorize and normalize\n",
    "from sklearn.feature_extraction.text import TfidfVectorizer\n",
    "vectorizer = TfidfVectorizer()\n",
    "train_vectors = vectorizer.fit_transform(newsgroups_train.data)"
   ]
  },
  {
   "cell_type": "markdown",
   "metadata": {},
   "source": [
    "Tämän jälkeen opetetaan aineistolla luokittelija, joka tässä tapauksessa on naiivi Bayes-luokittelija. Hienosta nimestään huolimatta kyseessä on jälleen hyvin yksinkertainen asia: teksti luokitellaan sen mukaan, mihin kategoriaan kuuluvia sanoja tekstissä on eniten.\n",
    "\n",
    "Ajatus on yksinkertainen, mutta toimii yllättävän hyvin yleisenä tekstiluokittimena."
   ]
  },
  {
   "cell_type": "code",
   "execution_count": 3,
   "metadata": {},
   "outputs": [
    {
     "data": {
      "text/plain": [
       "MultinomialNB(alpha=1.0, class_prior=None, fit_prior=True)"
      ]
     },
     "execution_count": 3,
     "metadata": {},
     "output_type": "execute_result"
    }
   ],
   "source": [
    "# Train naive Bayes\n",
    "from sklearn.naive_bayes import MultinomialNB\n",
    "classifier = MultinomialNB()\n",
    "classifier.fit(train_vectors, newsgroups_train.target)"
   ]
  },
  {
   "cell_type": "markdown",
   "metadata": {},
   "source": [
    "Kun luokitin on opetettu, testataan sitä. Käytetään esimerkkeinä yksinkertaisia lauseita, joiden luokittelussa ei pitäisi olla epäselvyyttä, tehdään samat valmisteluoperaatiot kuin opetusdatalle ja kirjoitetaan lopputulokset näkyviin."
   ]
  },
  {
   "cell_type": "code",
   "execution_count": 4,
   "metadata": {},
   "outputs": [
    {
     "name": "stdout",
     "output_type": "stream",
     "text": [
      "'God is love' => soc.religion.christian\n",
      "'OpenGL on the GPU is fast' => comp.graphics\n",
      "\"I'm an atheist\" => alt.atheism\n",
      "'Medical students are specialized' => sci.med\n"
     ]
    }
   ],
   "source": [
    "# Test the classifier with some strings\n",
    "test_strings = [\"God is love\", \n",
    "                \"OpenGL on the GPU is fast\", \n",
    "                \"I'm an atheist\", \n",
    "                \"Medical students are specialized\"]\n",
    "test_vectors = vectorizer.transform(test_strings)\n",
    "predicted = classifier.predict(test_vectors)\n",
    "\n",
    "# Print test classification\n",
    "for doc, category in zip(test_strings, predicted):\n",
    "    print(\"%r => %s\" % (doc, newsgroups_train.target_names[category]))"
   ]
  },
  {
   "cell_type": "markdown",
   "metadata": {},
   "source": [
    "Kuten nähdään, luokitin toimii \"täydellisesti\", mikä tietysti johtuu tehtävän yksinkertaisuudesta.\n",
    "\n",
    "Toisaalta tämä toimintatapa pienillä variaatioilla toimii suhteellisen hyvin vaativammissakin tapauksissa."
   ]
  }
 ],
 "metadata": {
  "kernelspec": {
   "display_name": "Python 3",
   "language": "python",
   "name": "python3"
  },
  "language_info": {
   "codemirror_mode": {
    "name": "ipython",
    "version": 3
   },
   "file_extension": ".py",
   "mimetype": "text/x-python",
   "name": "python",
   "nbconvert_exporter": "python",
   "pygments_lexer": "ipython3",
   "version": "3.6.4"
  }
 },
 "nbformat": 4,
 "nbformat_minor": 2
}
